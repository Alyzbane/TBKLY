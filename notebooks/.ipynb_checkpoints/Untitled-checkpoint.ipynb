{
 "cells": [
  {
   "cell_type": "code",
   "execution_count": 10,
   "id": "7f7fa93e-f0b9-4c89-8402-c7b4094611e1",
   "metadata": {},
   "outputs": [
    {
     "name": "stdout",
     "output_type": "stream",
     "text": [
      "Predicted label: PLM, Confidence score: 0.9134\n",
      "Predicted label: TPT, Confidence score: 0.0853\n",
      "Predicted label: IPL, Confidence score: 0.0009\n",
      "Predicted label: MNG, Confidence score: 0.0003\n",
      "Predicted label: NRR, Confidence score: 0.0001\n"
     ]
    }
   ],
   "source": [
    "import cv2\n",
    "import numpy as np\n",
    "import onnx\n",
    "import onnxruntime\n",
    "import albumentations as A\n",
    "from albumentations.pytorch import ToTensorV2\n",
    "import torch\n",
    "\n",
    "# Define your class names based on your dataset\n",
    "class_names = ['IPL', 'MNG', 'NRR', 'PLM', 'TPT']  # Modify this as per your dataset\n",
    "size = 224\n",
    "# Function to prepare the image and perform inference\n",
    "def pipeline_onnx(image_filepath, onnx_model_path):\n",
    "    # Load the image\n",
    "    image = cv2.imread(image_filepath)\n",
    "    image = cv2.cvtColor(image, cv2.COLOR_BGR2RGB)\n",
    "\n",
    "    # Define your transformations (same as used during training)\n",
    "    transform = A.Compose(\n",
    "        [\n",
    "            A.Resize(width=size, height=size),\n",
    "            A.Normalize(mean=(0.485, 0.456, 0.406), std=(0.229, 0.224, 0.225)),\n",
    "            ToTensorV2(),\n",
    "        ]\n",
    "    )\n",
    "    \n",
    " # Apply transformations\n",
    "    image = transform(image=image)[\"image\"]\n",
    "    \n",
    "    # Add batch dimension and convert to NumPy array\n",
    "    image = image.unsqueeze(0).cpu().numpy()  # shape: [1, C, H, W]\n",
    "\n",
    "    # Load the ONNX model\n",
    "    ort_session = onnxruntime.InferenceSession(onnx_model_path)\n",
    "\n",
    "    # Prepare input data for ONNX Runtime\n",
    "    ort_inputs = {ort_session.get_inputs()[0].name: image}\n",
    "\n",
    "    # Run inference\n",
    "    ort_outputs = ort_session.run(None, ort_inputs)\n",
    "\n",
    "    # Extract predictions and apply softmax to get probabilities\n",
    "    scores = ort_outputs[0]\n",
    "    probabilities = torch.softmax(torch.tensor(scores), dim=1).numpy()  # shape: [1, num_classes]\n",
    "\n",
    "    # Get predicted indices and corresponding confidence scores\n",
    "    predictions = [(class_names[i], probabilities[0][i]) for i in range(len(class_names))]\n",
    "\n",
    "    # Sort predictions by confidence score in descending order\n",
    "    sorted_predictions = sorted(predictions, key=lambda x: x[1], reverse=True)\n",
    "\n",
    "    return sorted_predictions\n",
    "\n",
    "# Example usage\n",
    "image_filepath = r\"C:\\Users\\MASTER\\Pictures\\misser.png\"  # Use the first image from your test dataset\n",
    "onnx_model_path = \"mobilenetV3_large_100/model.onnx\"  # Path to your ONNX model\n",
    "\n",
    "predictions = pipeline_onnx(image_filepath, onnx_model_path)\n",
    "\n",
    "# Print sorted predictions with confidence scores\n",
    "for label, score in predictions:\n",
    "    print(f'Predicted label: {label}, Confidence score: {score:.4f}')"
   ]
  },
  {
   "cell_type": "code",
   "execution_count": null,
   "id": "7f4fe40a-62cb-42cd-a8a3-b74afd8a4d18",
   "metadata": {},
   "outputs": [],
   "source": []
  }
 ],
 "metadata": {
  "kernelspec": {
   "display_name": "Python 3 (ipykernel)",
   "language": "python",
   "name": "python3"
  },
  "language_info": {
   "codemirror_mode": {
    "name": "ipython",
    "version": 3
   },
   "file_extension": ".py",
   "mimetype": "text/x-python",
   "name": "python",
   "nbconvert_exporter": "python",
   "pygments_lexer": "ipython3",
   "version": "3.12.3"
  }
 },
 "nbformat": 4,
 "nbformat_minor": 5
}
